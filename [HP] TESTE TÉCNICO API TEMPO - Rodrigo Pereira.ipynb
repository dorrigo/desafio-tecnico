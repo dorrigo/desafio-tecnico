{
 "cells": [
  {
   "cell_type": "code",
   "execution_count": null,
   "id": "d0a25e9a",
   "metadata": {},
   "outputs": [
    {
     "name": "stdout",
     "output_type": "stream",
     "text": [
      "Histórico de 2025-07-15 até 2025-07-21 salvo em historico_tempo.csv\n",
      "   Data  Temperatura Máxima (°C)  Temperatura Mínima (°C)  Precipitação (mm)  \\\n",
      "0  None                     24.3                     23.2              11.03   \n",
      "1  None                     24.5                     23.5               4.86   \n",
      "2  None                     25.4                     24.0               6.85   \n",
      "3  None                     25.7                     24.1              10.32   \n",
      "4  None                     25.0                     24.4               0.01   \n",
      "\n",
      "   Umidade Média (%)              Condição  \n",
      "0                 73     Light rain shower  \n",
      "1                 71  Patchy rain possible  \n",
      "2                 77     Light rain shower  \n",
      "3                 76     Light rain shower  \n",
      "4                 72         Partly cloudy  \n"
     ]
    }
   ],
   "source": [
    "import requests\n",
    "import pandas as pd\n",
    "from datetime import datetime, timedelta\n",
    "\n",
    "# Configurações\n",
    "API_KEY = \"375df3a1482d41ed912180522252207\"\n",
    "CIDADE = \"Salvador\"\n",
    "ARQUIVO_SAIDA = \"historico_tempo.csv\"\n",
    "\n",
    "# Intervalo de datas para pegar os últimos 7 dias\n",
    "data_fim = datetime.today() - timedelta(days=1)  \n",
    "data_inicio = data_fim - timedelta(days=6)       \n",
    "\n",
    "# Formatar datas (Consegui fazer dessa forma porque nunca tinha utilizado essa API e tenho Trial disponível para testar)\n",
    "dt = data_inicio.strftime('%Y-%m-%d')\n",
    "end_dt = data_fim.strftime('%Y-%m-%d')\n",
    "\n",
    "# URL com intervalo\n",
    "url = f\"http://api.weatherapi.com/v1/history.json?key={API_KEY}&q={CIDADE}&dt={dt}&end_dt={end_dt}\"\n",
    "\n",
    "# Fazer a requisição\n",
    "resposta = requests.get(url)\n",
    "dados = resposta.json()\n",
    "\n",
    "# Preenche os dados_diarios \n",
    "dados_diarios = []\n",
    "for dia in dados[\"forecast\"][\"forecastday\"]:\n",
    "    dados_diarios.append({\n",
    "        \"Data\": dia.get(\"date\"),   # A API não está retornando a Data sendo que estou configurando corretamente para pegar o dia\n",
    "        \"Temperatura Máxima (°C)\": dia.get(\"day\", {}).get(\"maxtemp_c\"),\n",
    "        \"Temperatura Mínima (°C)\": dia.get(\"day\", {}).get(\"mintemp_c\"),\n",
    "        \"Precipitação (mm)\": dia.get(\"day\", {}).get(\"totalprecip_mm\"),\n",
    "        \"Umidade Média (%)\": dia.get(\"day\", {}).get(\"avghumidity\"),\n",
    "        \"Condição\": dia.get(\"day\", {}).get(\"condition\", {}).get(\"text\")\n",
    "    })\n",
    "\n",
    "# Salvar CSV\n",
    "df = pd.DataFrame(dados_diarios)\n",
    "df.to_csv(ARQUIVO_SAIDA, index=False)\n",
    "print(f\"Histórico de {dt} até {end_dt} salvo em {ARQUIVO_SAIDA}\") # Validando aqui o intervalo de datas, inseri manualmente no .csv para organização mas retornou vazio pela API.\n",
    "print(df.head())\n",
    "\n"
   ]
  }
 ],
 "metadata": {
  "kernelspec": {
   "display_name": "base",
   "language": "python",
   "name": "python3"
  },
  "language_info": {
   "codemirror_mode": {
    "name": "ipython",
    "version": 3
   },
   "file_extension": ".py",
   "mimetype": "text/x-python",
   "name": "python",
   "nbconvert_exporter": "python",
   "pygments_lexer": "ipython3",
   "version": "3.12.7"
  }
 },
 "nbformat": 4,
 "nbformat_minor": 5
}
